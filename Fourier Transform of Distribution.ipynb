{
 "cells": [
  {
   "cell_type": "code",
   "execution_count": null,
   "metadata": {},
   "outputs": [],
   "source": [
    "from scipy.fft import fft, fftfreq, fftshift\n",
    "import numpy as np\n",
    "import numpy as np\n",
    "import matplotlib.pyplot as plt\n",
    "import scipy.fftpack\n",
    "import scipy\n",
    "from scipy import interpolate\n",
    "from scipy import integrate\n",
    "# number of signal points\n",
    "x = np.load('xvalues.npy') #Previously generated x values\n",
    "y=np.load('function_to_be_transformed.npy') #Previously generated function (with same number of values as x)\n",
    "y = np.asarray(y).squeeze() \n",
    "f = interpolate.interp1d(x, y) #interpolating data to make accessible function\n",
    "\n",
    "N = 80000\n",
    "# sample spacing\n",
    "T = 1.0 / 80000.0\n",
    "x = np.linspace(-N*T, N*T, N)\n",
    "y=f(x)\n",
    "yf = fft(y)\n",
    "xf = fftfreq(N, T)\n",
    "xf = fftshift(xf)\n",
    "yplot = fftshift(yf)\n",
    "import matplotlib.pyplot as plt\n",
    "plt.plot(x,np.abs(f(x))**2)\n",
    "plt.xlabel('x')\n",
    "plt.ylabel(r'$|\\Psi(x)|^2$')\n",
    "plt.savefig(\"firstPo.eps\", format=\"eps\")\n",
    "plt.show()\n",
    "\n",
    "plt.plot(xf, np.abs(1.0/N * np.abs(yplot))**2)\n",
    "plt.xlim(right=100.0)  # adjust the right leaving left unchanged\n",
    "plt.xlim(left=-100.0)  # adjust the left leaving right unchanged\n",
    "#plt.grid()\n",
    "plt.ylabel(r'$|\\phi(p)|^2$')\n",
    "plt.xlabel('p')\n",
    "plt.savefig(\"firstMo.eps\", format=\"eps\")\n",
    "plt.show()"
   ]
  }
 ],
 "metadata": {
  "kernelspec": {
   "display_name": "Python 3",
   "language": "python",
   "name": "python3"
  },
  "language_info": {
   "codemirror_mode": {
    "name": "ipython",
    "version": 3
   },
   "file_extension": ".py",
   "mimetype": "text/x-python",
   "name": "python",
   "nbconvert_exporter": "python",
   "pygments_lexer": "ipython3",
   "version": "3.7.7"
  }
 },
 "nbformat": 4,
 "nbformat_minor": 4
}
